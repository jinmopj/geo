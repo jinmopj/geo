{
  "nbformat": 4,
  "nbformat_minor": 0,
  "metadata": {
    "colab": {
      "name": "Untitled0.ipynb",
      "provenance": [],
      "collapsed_sections": []
    },
    "kernelspec": {
      "name": "python3",
      "display_name": "Python 3"
    }
  },
  "cells": [
    {
      "cell_type": "markdown",
      "metadata": {
        "id": "9oK1hUFtcgZL",
        "colab_type": "text"
      },
      "source": [
        "# KeplerGL PersonTripOD Colaboratory\n",
        "\n",
        "[Geo+Python ゆるハンズオン](https://udceasttokyo.connpass.com/event/147710/)に参加してきました<br>\n",
        "Mamiさんの[KeplerGL_PersonTripOD.ipynb](https://github.com/mamix1116/geo_python_cookbook/blob/master/notebook/KeplerGL_PersonTripOD.ipynb)を、<br>\n",
        "Colaboratoryで再現してみました(完全にはできてないけど〜汗)\n",
        "\n",
        "### Thanks\n",
        "- Mami Enomoto [@mamix1116](https://twitter.com/mamix1116) さん\n",
        "- Kunihiko Miyoshi [@colspan](https://github.com/colspan) さん"
      ]
    },
    {
      "cell_type": "markdown",
      "metadata": {
        "id": "fIEao1_0ciZN",
        "colab_type": "text"
      },
      "source": [
        "## GeoPandas"
      ]
    },
    {
      "cell_type": "code",
      "metadata": {
        "id": "QShmBur4b7Fm",
        "colab_type": "code",
        "colab": {}
      },
      "source": [
        "!pip install geopandas\n",
        "!apt-get install libproj-dev proj-data proj-bin\n",
        "!apt-get install libgeos-dev\n",
        "!pip install geoplot"
      ],
      "execution_count": 0,
      "outputs": []
    },
    {
      "cell_type": "markdown",
      "metadata": {
        "id": "INLIw9-mcojr",
        "colab_type": "text"
      },
      "source": [
        "## GoogleDrive"
      ]
    },
    {
      "cell_type": "code",
      "metadata": {
        "id": "hJ96hYAgcpRa",
        "colab_type": "code",
        "colab": {}
      },
      "source": [
        "from google.colab import drive\n",
        "from google.colab import files\n",
        "drive.mount('/content/drive')\n",
        "\n",
        "# 1. Go to this URL in a browser:の右にあるURLをクリック\n",
        "# 2. アカウントの選択\n",
        "# 3. 右下の「許可」をクリック\n",
        "# 4. コードをコピー(アイコンがあるのでクリック)\n",
        "# 5. Enter your authorization code:にペーストしてENTER"
      ],
      "execution_count": 0,
      "outputs": []
    },
    {
      "cell_type": "markdown",
      "metadata": {
        "id": "Y4GSY7dOcsuf",
        "colab_type": "text"
      },
      "source": [
        "## import"
      ]
    },
    {
      "cell_type": "code",
      "metadata": {
        "id": "NMlDrXzrcvtl",
        "colab_type": "code",
        "colab": {}
      },
      "source": [
        "%matplotlib inline\n",
        "\n",
        "import pandas as pd\n",
        "import geopandas as gpd\n",
        "import matplotlib.pyplot as plt"
      ],
      "execution_count": 0,
      "outputs": []
    },
    {
      "cell_type": "markdown",
      "metadata": {
        "id": "sAEq726hcz4G",
        "colab_type": "text"
      },
      "source": [
        "## データ\n",
        "\n",
        "### 交通流動量 パーソントリップＯＤ量データ をDLする\n",
        "- 三大都市圏パーソントリップ調査\n",
        "- https://www.tokyo-pt.jp/person/01\n",
        "- パーソントリップ調査とは、「どのような人が」「どのような目的で」「どこからどこへ」「どのような交通手段で」移動したか\n",
        "\n",
        "### 国土数値情報からDL\n",
        "\n",
        "- 交通流動量 パーソントリップＯＤ量データ（東京圏）\n",
        "- http://nlftp.mlit.go.jp/ksj/jpgis/datalist/KsjTmplt-S05-b.html\n",
        "- S05-b-10_SYUTO.zipをダウンロード"
      ]
    },
    {
      "cell_type": "markdown",
      "metadata": {
        "id": "MF93DizLc1YQ",
        "colab_type": "text"
      },
      "source": [
        "## GoogleDriveに3つのファイルを保存\n",
        "\n",
        "- S05-b-10_SYUTO-1-g_PersonTripODAmount.dbf\n",
        "- S05-b-10_SYUTO-1-g_PersonTripODAmount.shp\n",
        "- S05-b-10_SYUTO-1-g_PersonTripODAmount.shx\n",
        "\n",
        "#### ※ .shpだけだとエラーにまります"
      ]
    },
    {
      "cell_type": "code",
      "metadata": {
        "id": "Nsvcs_zvc6Gs",
        "colab_type": "code",
        "colab": {}
      },
      "source": [
        "# ファイルを読み込む\n",
        "# パスは左のファイルから.shpファイルまでたどって、右クリック「パスをコピー」してペースト\n",
        "\n",
        "df_personTripOD = gpd.read_file('/content/drive/xxxxxx/S05-b-10_SYUTO-1-g_PersonTripODAmount.shp')\n",
        "df_personTripOD.head()"
      ],
      "execution_count": 0,
      "outputs": []
    },
    {
      "cell_type": "markdown",
      "metadata": {
        "id": "_GSnPGYOc-t5",
        "colab_type": "text"
      },
      "source": [
        "- 'S05b_002', 調査年度\n",
        "- 'S05b_003', 発ゾーンコード\n",
        "- 'S05b_004', 着ゾーンコード\n",
        "- 'S05b_010', 鉄道-合計トリップ数（交通手段「鉄道」、目的合計のトリップ数　）\n",
        "- 'S05b_035', 全トリップ数（全交通手段、目的合計のトリップ数）\n",
        "- 'geometry'"
      ]
    },
    {
      "cell_type": "code",
      "metadata": {
        "id": "-dEuo-4CdA1d",
        "colab_type": "code",
        "colab": {}
      },
      "source": [
        "# 必要なカラムを確認　\n",
        "df_personTripOD[['S05b_002', 'S05b_003', 'S05b_004', 'S05b_010', 'S05b_011', 'S05b_012']]"
      ],
      "execution_count": 0,
      "outputs": []
    },
    {
      "cell_type": "code",
      "metadata": {
        "id": "JqxZJOV-dDUJ",
        "colab_type": "code",
        "colab": {}
      },
      "source": [
        "len(df_personTripOD)"
      ],
      "execution_count": 0,
      "outputs": []
    },
    {
      "cell_type": "markdown",
      "metadata": {
        "id": "SUKdMM6XdF1r",
        "colab_type": "text"
      },
      "source": [
        "## 東京都市圏ゾーンコード\n",
        "\n",
        "- 0010    東京都    千代田区    皇居外苑\n",
        "- 0010    東京都    千代田区    千代田\n",
        "- 0010    東京都    千代田区    北の丸公園\n",
        "- 0010    東京都    千代田区    大手町１丁目\n",
        "- 0010    東京都    千代田区    大手町２丁目\n",
        "- 0010    東京都    千代田区    丸の内１丁目\n",
        "- 0010    東京都    千代田区    丸の内２丁目\n",
        "- 0010    東京都    千代田区    丸の内３丁目\n",
        "- 0011    東京都    千代田区    永田町１丁目\n",
        "- 0011    東京都    千代田区    永田町２丁目\n",
        "- 0011    東京都    千代田区    隼町\n",
        "- 0011    東京都    千代田区    平河町１丁目\n",
        "\n",
        "http://nlftp.mlit.go.jp/ksj/jpgis/codelist/TokyoAreaZoneCd.html"
      ]
    },
    {
      "cell_type": "code",
      "metadata": {
        "id": "IHsRBJG-dGob",
        "colab_type": "code",
        "colab": {}
      },
      "source": [
        "# 0010が起点（発ゾーン）のODだけを抽出して確認する\n",
        "df_OD_selected = df_personTripOD.query('S05b_003 == \"0010\"')"
      ],
      "execution_count": 0,
      "outputs": []
    },
    {
      "cell_type": "code",
      "metadata": {
        "id": "7M5Gnj0WdIQO",
        "colab_type": "code",
        "colab": {}
      },
      "source": [
        "len(df_OD_selected)"
      ],
      "execution_count": 0,
      "outputs": []
    },
    {
      "cell_type": "code",
      "metadata": {
        "id": "I6mqJJkGdRC-",
        "colab_type": "code",
        "colab": {}
      },
      "source": [
        "# 地図描写\n",
        "df_OD_selected.plot()"
      ],
      "execution_count": 0,
      "outputs": []
    },
    {
      "cell_type": "code",
      "metadata": {
        "id": "O9QNgLhZdSwB",
        "colab_type": "code",
        "colab": {}
      },
      "source": [
        "# 必要なカラムを抽出\n",
        "df_personTripOD2 = df_personTripOD[['S05b_003', 'S05b_004',  'S05b_010', 'S05b_035', 'geometry']]\n",
        "df_personTripOD2.columns = ['zone01', 'zone02', 'trip_train', 'trip_all', 'geometry']\n",
        "df_personTripOD2.head()"
      ],
      "execution_count": 0,
      "outputs": []
    },
    {
      "cell_type": "code",
      "metadata": {
        "id": "sAXKMpNadVDW",
        "colab_type": "code",
        "colab": {}
      },
      "source": [
        "# 起点と終点の緯度経度\n",
        "df_personTripOD3 = df_personTripOD2.assign(\n",
        "    lng_to=lambda df_personTripOD2: df_personTripOD2.apply(lambda row: row['geometry'].xy[0][0], axis=1) ,\n",
        "    lng_from=lambda df_personTripOD2: df_personTripOD2.apply(lambda row: row['geometry'].xy[0][1], axis=1) ,\n",
        "    lat_to=lambda df_personTripOD2: df_personTripOD2.apply(lambda row: row['geometry'].xy[1][0], axis=1) ,\n",
        "    lat_from=lambda df_personTripOD2: df_personTripOD2.apply(lambda row: row['geometry'].xy[1][1], axis=1) \n",
        ")"
      ],
      "execution_count": 0,
      "outputs": []
    },
    {
      "cell_type": "code",
      "metadata": {
        "id": "KXHRdYzCdW-e",
        "colab_type": "code",
        "colab": {}
      },
      "source": [
        "df_personTripOD3.head()"
      ],
      "execution_count": 0,
      "outputs": []
    },
    {
      "cell_type": "markdown",
      "metadata": {
        "id": "Ucj9WGWSdcoC",
        "colab_type": "text"
      },
      "source": [
        "## KeplerGL for Jupyter\n",
        "\n",
        "- KeplerGLのJupyterウィジェット\n",
        "- https://github.com/keplergl/kepler.gl/tree/master/bindings/kepler.gl-jupyter\n",
        "- Kepler GL https://kepler.gl/\n",
        "\n",
        "#### ※Colaboratoryではipywidgetsが使えない"
      ]
    },
    {
      "cell_type": "markdown",
      "metadata": {
        "id": "hKdwKwziddV3",
        "colab_type": "text"
      },
      "source": [
        "### ユーザーガイド\n",
        "https://github.com/keplergl/kepler.gl/blob/master/docs/keplergl-jupyter/user-guide.md\n",
        "\n",
        "### 必要環境\n",
        "- Python >= 2\n",
        "- ipywidgets >= 7.0.0\n",
        "\n",
        "### JupyterLabの必要環境\n",
        "- Node > 8.15.0\n",
        "- Python 3\n",
        "- JupyterLab>=1.0.0"
      ]
    },
    {
      "cell_type": "code",
      "metadata": {
        "id": "WIqMJtU4dg9z",
        "colab_type": "code",
        "colab": {}
      },
      "source": [
        "!node --version"
      ],
      "execution_count": 0,
      "outputs": []
    },
    {
      "cell_type": "code",
      "metadata": {
        "id": "_VP37Gsudhq0",
        "colab_type": "code",
        "colab": {}
      },
      "source": [
        "# !apt install node@8"
      ],
      "execution_count": 0,
      "outputs": []
    },
    {
      "cell_type": "code",
      "metadata": {
        "id": "h1otwdG0dkX6",
        "colab_type": "code",
        "colab": {}
      },
      "source": [
        "!npm i -g n\n",
        "!n v12.13.0\n",
        "!node --version"
      ],
      "execution_count": 0,
      "outputs": []
    },
    {
      "cell_type": "code",
      "metadata": {
        "id": "nBmxLgr1dl1C",
        "colab_type": "code",
        "colab": {}
      },
      "source": [
        "!pip install keplergl"
      ],
      "execution_count": 0,
      "outputs": []
    },
    {
      "cell_type": "code",
      "metadata": {
        "id": "mQQYqjDPdnNw",
        "colab_type": "code",
        "colab": {}
      },
      "source": [
        "!pip install jupyterlab"
      ],
      "execution_count": 0,
      "outputs": []
    },
    {
      "cell_type": "code",
      "metadata": {
        "id": "UfHiLYdVdoyh",
        "colab_type": "code",
        "colab": {}
      },
      "source": [
        "!jupyter labextension install @jupyter-widgets/jupyterlab-manager keplergl-jupyter"
      ],
      "execution_count": 0,
      "outputs": []
    },
    {
      "cell_type": "code",
      "metadata": {
        "id": "xr-GZsttdqWj",
        "colab_type": "code",
        "colab": {}
      },
      "source": [
        "from keplergl import KeplerGl"
      ],
      "execution_count": 0,
      "outputs": []
    },
    {
      "cell_type": "markdown",
      "metadata": {
        "id": "6ilN2-Hndtav",
        "colab_type": "text"
      },
      "source": [
        "## GoogleDriveにkeplerGL設定ファイルを保存\n",
        "- KeplerGL_PersonTripOD_config.txt\n",
        "- 下記を保存\n",
        "```\n",
        "{'config': {'mapState': {'bearing': -22.111111111111118,\n",
        "   'dragRotate': True,\n",
        "   'isSplit': False,\n",
        "   'latitude': 35.67180136580014,\n",
        "   'longitude': 139.75256414941893,\n",
        "   'pitch': 49.00348473774453,\n",
        "   'zoom': 11.139992472965828},\n",
        "  'mapStyle': {'mapStyles': {},\n",
        "   'styleType': 'dark',\n",
        "   'threeDBuildingColor': [9.665468314072013,\n",
        "    17.18305478057247,\n",
        "    31.1442867897876],\n",
        "   'topLayerGroups': {},\n",
        "   'visibleLayerGroups': {'3d building': False,\n",
        "    'border': False,\n",
        "    'building': True,\n",
        "    'label': True,\n",
        "    'land': True,\n",
        "    'road': True,\n",
        "    'water': True}},\n",
        "  'visState': {'filters': [],\n",
        "   'interactionConfig': {'brush': {'enabled': True, 'size': 1.1},\n",
        "    'tooltip': {'enabled': False,\n",
        "     'fieldsToShow': {'personTripOD': ['zone01',\n",
        "       'zone02',\n",
        "       'trip_train',\n",
        "       'trip_all']}}},\n",
        "   'layerBlending': 'normal',\n",
        "   'layers': [{'config': {'color': [225, 49, 106],\n",
        "      'columns': {'lat0': 'lat_from',\n",
        "       'lat1': 'lat_to',\n",
        "       'lng0': 'lng_from',\n",
        "       'lng1': 'lng_to'},\n",
        "      'dataId': 'personTripOD',\n",
        "      'isVisible': True,\n",
        "      'label': 'personTripOD',\n",
        "      'textLabel': [{'alignment': 'center',\n",
        "        'anchor': 'start',\n",
        "        'color': [255, 255, 255],\n",
        "        'field': None,\n",
        "        'offset': [0, 0],\n",
        "        'size': 18}],\n",
        "      'visConfig': {'colorRange': {'category': 'Uber',\n",
        "        'colors': ['#5A1846',\n",
        "         '#900C3F',\n",
        "         '#C70039',\n",
        "         '#E3611C',\n",
        "         '#F1920E',\n",
        "         '#FFC300'],\n",
        "        'name': 'Global Warming',\n",
        "        'type': 'sequential'},\n",
        "       'opacity': 0.8,\n",
        "       'sizeRange': [0, 1],\n",
        "       'targetColor': [207, 216, 244],\n",
        "       'thickness': 1}},\n",
        "     'id': '4hj0mq',\n",
        "     'type': 'arc',\n",
        "     'visualChannels': {'colorField': None,\n",
        "      'colorScale': 'quantile',\n",
        "      'sizeField': {'name': 'trip_train', 'type': 'integer'},\n",
        "      'sizeScale': 'linear'}}],\n",
        "   'splitMaps': []}},\n",
        " 'version': 'v1'}\n",
        " ```"
      ]
    },
    {
      "cell_type": "code",
      "metadata": {
        "id": "995_JYzrdv0W",
        "colab_type": "code",
        "colab": {}
      },
      "source": [
        "# 設定ファイルを読み込む\n",
        "# パスは左のファイルから.shpファイルまでたどって、右クリック「パスをコピー」してペースト\n",
        "\n",
        "myconfig = open('/content/drive/xxxxxx/KeplerGL_PersonTripOD_config.txt').read()"
      ],
      "execution_count": 0,
      "outputs": []
    },
    {
      "cell_type": "code",
      "metadata": {
        "id": "nf_pqFWrdwfO",
        "colab_type": "code",
        "colab": {}
      },
      "source": [
        "import ast"
      ],
      "execution_count": 0,
      "outputs": []
    },
    {
      "cell_type": "code",
      "metadata": {
        "id": "00xfRCx4dx1X",
        "colab_type": "code",
        "colab": {}
      },
      "source": [
        "map_personTripOD_curve = KeplerGl(height=600, config=ast.literal_eval(myconfig))\n",
        "map_personTripOD_curve.add_data(data=df_personTripOD3, name='personTripOD')\n",
        "map_personTripOD_curve"
      ],
      "execution_count": 0,
      "outputs": []
    },
    {
      "cell_type": "code",
      "metadata": {
        "id": "csfFBoz_d0wo",
        "colab_type": "code",
        "colab": {}
      },
      "source": [
        "map_personTripOD_curve.config"
      ],
      "execution_count": 0,
      "outputs": []
    },
    {
      "cell_type": "code",
      "metadata": {
        "id": "gZ17MvtDd2Sv",
        "colab_type": "code",
        "colab": {}
      },
      "source": [
        "# 設定ファイル\n",
        "# config = map_personTripOD_curve.config\n",
        "# with open(\"KeplerGL_PersonTripOD_config.txt\", \"w\") as f:\n",
        "# print(config, file=f)"
      ],
      "execution_count": 0,
      "outputs": []
    },
    {
      "cell_type": "code",
      "metadata": {
        "id": "hCabFtzad3uT",
        "colab_type": "code",
        "colab": {}
      },
      "source": [
        "# HTML に出力\n",
        "map_personTripOD_curve.save_to_html(file_name=\"my_PersonTripOD_map.html\")\n",
        "\n",
        "from IPython.display import display_html\n",
        "with open('my_PersonTripOD_map.html') as f:\n",
        "    display_html(f.read(), raw=True)"
      ],
      "execution_count": 0,
      "outputs": []
    },
    {
      "cell_type": "markdown",
      "metadata": {
        "id": "KBB3uC5-d51Q",
        "colab_type": "text"
      },
      "source": [
        "## Ngrok"
      ]
    },
    {
      "cell_type": "code",
      "metadata": {
        "id": "XkkyexXUd6P5",
        "colab_type": "code",
        "colab": {}
      },
      "source": [
        "# Ngrok\n",
        "! wget https://bin.equinox.io/c/4VmDzA7iaHb/ngrok-stable-linux-amd64.zip\n",
        "! unzip -d /opt ngrok-stable-linux-amd64.zip \n",
        "! rm ngrok-stable-linux-amd64.zip \n",
        "! echo \"web_addr: 4045\" > /content/config.yml"
      ],
      "execution_count": 0,
      "outputs": []
    },
    {
      "cell_type": "code",
      "metadata": {
        "id": "0MK-INWSd83I",
        "colab_type": "code",
        "colab": {}
      },
      "source": [
        "# publish tileset\n",
        "! pkill ngrok\n",
        "get_ipython().system_raw('/opt/ngrok http -config=/content/config.yml 8888 &')\n",
        "! sleep 1"
      ],
      "execution_count": 0,
      "outputs": []
    },
    {
      "cell_type": "code",
      "metadata": {
        "id": "QIHnhPhNd-k9",
        "colab_type": "code",
        "colab": {}
      },
      "source": [
        "import requests\n",
        "import json\n",
        "r = requests.get(\"http://localhost:4045/api/tunnels\", headers={\"content-type\": \"application/json\"})\n",
        "base_url = r.json()['tunnels'][0]['public_url'].replace('http://', 'https://')\n",
        "base_url"
      ],
      "execution_count": 0,
      "outputs": []
    },
    {
      "cell_type": "markdown",
      "metadata": {
        "id": "2AxKnbaSeCpx",
        "colab_type": "text"
      },
      "source": [
        "##### 上記の、https://xxxxxxxx.ngrok.ioで描画"
      ]
    },
    {
      "cell_type": "code",
      "metadata": {
        "id": "ezLJZQKeeFT8",
        "colab_type": "code",
        "colab": {}
      },
      "source": [
        "# start server\n",
        "! npm -g install http-server\n",
        "get_ipython().system_raw('http-server -p 8888 --cors &')\n",
        "! sleep 1"
      ],
      "execution_count": 0,
      "outputs": []
    },
    {
      "cell_type": "markdown",
      "metadata": {
        "id": "tgbAq33IeJCu",
        "colab_type": "text"
      },
      "source": [
        "## iframe"
      ]
    },
    {
      "cell_type": "code",
      "metadata": {
        "id": "8aDfq6PieG8W",
        "colab_type": "code",
        "colab": {}
      },
      "source": [
        "from IPython.core.display import display, HTML\n",
        "display_html('<iframe src=\"' +base_url+'/my_PersonTripOD_map.html' + '\" width=\"1000px\" height=\"500px\"></iframe>', raw=True)"
      ],
      "execution_count": 0,
      "outputs": []
    }
  ]
}